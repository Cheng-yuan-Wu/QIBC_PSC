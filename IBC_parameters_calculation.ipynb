{
 "cells": [
  {
   "cell_type": "code",
   "execution_count": 976,
   "metadata": {},
   "outputs": [],
   "source": [
    "import pandas as pd\n",
    "import numpy as np\n",
    "from matplotlib import pyplot as plt\n",
    "from scipy.interpolate import make_interp_spline"
   ]
  },
  {
   "cell_type": "code",
   "execution_count": 977,
   "metadata": {},
   "outputs": [],
   "source": [
    "df = pd.read_excel('/Users/cheng-yuanwu/Downloads/settings20.xls')"
   ]
  },
  {
   "cell_type": "code",
   "execution_count": 978,
   "metadata": {},
   "outputs": [],
   "source": [
    "x = list(df['IV curve'])\n",
    "del x[0]"
   ]
  },
  {
   "cell_type": "code",
   "execution_count": 979,
   "metadata": {},
   "outputs": [],
   "source": [
    "x1 = np.array(x)"
   ]
  },
  {
   "cell_type": "code",
   "execution_count": 980,
   "metadata": {},
   "outputs": [],
   "source": [
    "y = list(df[\"Unnamed: 2\"])\n",
    "del y[0]"
   ]
  },
  {
   "cell_type": "code",
   "execution_count": 981,
   "metadata": {},
   "outputs": [],
   "source": [
    "y1 = np.array(y)"
   ]
  },
  {
   "cell_type": "code",
   "execution_count": 982,
   "metadata": {},
   "outputs": [
    {
     "data": {
      "text/plain": [
       "<matplotlib.lines.Line2D at 0x7fbeeb4b13d0>"
      ]
     },
     "execution_count": 982,
     "metadata": {},
     "output_type": "execute_result"
    },
    {
     "data": {
      "image/png": "[encoded data removed]",
      "text/plain": [
       "<Figure size 432x288 with 1 Axes>"
      ]
     },
     "metadata": {
      "needs_background": "light"
     },
     "output_type": "display_data"
    }
   ],
   "source": [
    "matplotlib.pyplot.plot(x,y, color=\"C2\")\n",
    "plt.scatter(x, y, marker='o')\n",
    "plt.axhline(y=0) #x-axis\n",
    "plt.axvline(x=0) #y-axis"
   ]
  },
  {
   "cell_type": "code",
   "execution_count": 983,
   "metadata": {},
   "outputs": [
    {
     "name": "stdout",
     "output_type": "stream",
     "text": [
      "27.9497\n",
      "-1.9521\n"
     ]
    }
   ],
   "source": [
    "y_min = min(i for i in y if i > 0)\n",
    "print(y_min)\n",
    "\n",
    "y_max = max(i for i in y if i < 0)\n",
    "print(y_max)"
   ]
  },
  {
   "cell_type": "code",
   "execution_count": 984,
   "metadata": {},
   "outputs": [],
   "source": [
    "y_2 = y1.tolist()"
   ]
  },
  {
   "cell_type": "code",
   "execution_count": 985,
   "metadata": {},
   "outputs": [
    {
     "name": "stdout",
     "output_type": "stream",
     "text": [
      "11\n",
      "10\n"
     ]
    }
   ],
   "source": [
    "print(y_2.index(y_min))\n",
    "print(y_2.index(y_max))"
   ]
  },
  {
   "cell_type": "code",
   "execution_count": 986,
   "metadata": {},
   "outputs": [],
   "source": [
    "x_2 = x1.tolist()"
   ]
  },
  {
   "cell_type": "code",
   "execution_count": 987,
   "metadata": {},
   "outputs": [
    {
     "data": {
      "text/plain": [
       "600"
      ]
     },
     "execution_count": 987,
     "metadata": {},
     "output_type": "execute_result"
    }
   ],
   "source": [
    "x_2[y_2.index(y_max)]"
   ]
  },
  {
   "cell_type": "code",
   "execution_count": 988,
   "metadata": {},
   "outputs": [
    {
     "name": "stdout",
     "output_type": "stream",
     "text": [
      "point 1 = ( 650 , 27.9497 )\n",
      "point 2 = ( 600 , -1.9521 )\n"
     ]
    }
   ],
   "source": [
    "#by using interpolation method with two points to find the voc(y=o)\n",
    "print('point 1 =', '(',x_2[y_2.index(y_min)],',',  y_min,\")\")\n",
    "print('point 2 =', '(',x_2[y_2.index(y_max)],',',  y_max,\")\")\n"
   ]
  },
  {
   "cell_type": "code",
   "execution_count": 989,
   "metadata": {},
   "outputs": [],
   "source": [
    "voc = x_2[y_2.index(y_min)]-((y_min*(x_2[y_2.index(y_min)]-x_2[y_2.index(y_max)]))/(y_min-y_max))"
   ]
  },
  {
   "cell_type": "code",
   "execution_count": 990,
   "metadata": {},
   "outputs": [],
   "source": [
    "isc = y[0]"
   ]
  },
  {
   "cell_type": "code",
   "execution_count": 991,
   "metadata": {},
   "outputs": [
    {
     "name": "stdout",
     "output_type": "stream",
     "text": [
      "10\n",
      "max_power= -5597.400000000001\n"
     ]
    }
   ],
   "source": [
    "a = []\n",
    "for num in range(y_2.index(y_max)): #to calculate all the point before contact with the x-axis\n",
    "    result = y_2[num]*x_2[num] #to calculate the power and also want to find the maximum\n",
    "    a.append(result)\n",
    "\n",
    "print(len(a))\n",
    "print('max_power=', min(a))\n"
   ]
  },
  {
   "cell_type": "code",
   "execution_count": 992,
   "metadata": {},
   "outputs": [],
   "source": [
    "FF = min(a)/(voc*isc)"
   ]
  },
  {
   "cell_type": "code",
   "execution_count": 993,
   "metadata": {},
   "outputs": [
    {
     "name": "stdout",
     "output_type": "stream",
     "text": [
      "FF= 0.8287576465224299 %\n",
      "voc= 603.2641847647968\n",
      "isc= -11.1957\n",
      "max_power= -5597.400000000001\n"
     ]
    }
   ],
   "source": [
    "print('FF=',FF,'%')\n",
    "print('voc=',voc)\n",
    "print('isc=',isc)\n",
    "print('max_power=', min(a))\n"
   ]
  },
  {
   "cell_type": "code",
   "execution_count": 994,
   "metadata": {},
   "outputs": [
    {
     "name": "stdout",
     "output_type": "stream",
     "text": [
      "efficiency= -5597.400000000001\n"
     ]
    }
   ],
   "source": [
    "print('efficiency=',FF*voc*isc) #base on the same "
   ]
  },
  {
   "cell_type": "code",
   "execution_count": null,
   "metadata": {},
   "outputs": [],
   "source": []
  },
  {
   "cell_type": "code",
   "execution_count": null,
   "metadata": {},
   "outputs": [],
   "source": []
  }
 ],
 "metadata": {
  "kernelspec": {
   "display_name": "Python 3",
   "language": "python",
   "name": "python3"
  },
  "language_info": {
   "codemirror_mode": {
    "name": "ipython",
    "version": 3
   },
   "file_extension": ".py",
   "mimetype": "text/x-python",
   "name": "python",
   "nbconvert_exporter": "python",
   "pygments_lexer": "ipython3",
   "version": "3.7.4"
  }
 },
 "nbformat": 4,
 "nbformat_minor": 2
}
